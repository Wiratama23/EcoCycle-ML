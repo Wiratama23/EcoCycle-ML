{
  "nbformat": 4,
  "nbformat_minor": 0,
  "metadata": {
    "colab": {
      "provenance": []
    },
    "kernelspec": {
      "name": "python3",
      "display_name": "Python 3"
    },
    "language_info": {
      "name": "python"
    }
  },
  "cells": [
    {
      "cell_type": "markdown",
      "source": [
        "# Creating Learning Model for Rust Detection on any Steels"
      ],
      "metadata": {
        "id": "GDqMObYj5JEB"
      }
    },
    {
      "cell_type": "markdown",
      "source": [
        "# 1. Preparation"
      ],
      "metadata": {
        "id": "wY_h8glg5ncA"
      }
    },
    {
      "cell_type": "markdown",
      "source": [
        "Importing all necessary library"
      ],
      "metadata": {
        "id": "xa_KVFad5TBQ"
      }
    },
    {
      "cell_type": "code",
      "execution_count": null,
      "metadata": {
        "id": "EO2OfIIXLfd_"
      },
      "outputs": [],
      "source": [
        "import os\n",
        "import tensorflow as tf\n",
        "import numpy as np\n",
        "import pydot\n",
        "import matplotlib.pyplot as plt\n",
        "from keras.applications.mobilenet_v2 import MobileNetV2\n",
        "from keras import Model\n",
        "from sklearn.model_selection import train_test_split\n",
        "from keras.utils import plot_model\n",
        "from keras.preprocessing.image import ImageDataGenerator\n",
        "import random\n",
        "import shutil\n",
        "from shutil import copyfile"
      ]
    },
    {
      "cell_type": "markdown",
      "source": [
        "Defining paths"
      ],
      "metadata": {
        "id": "x9YKFQLG5Zyk"
      }
    },
    {
      "cell_type": "code",
      "source": [
        "source_dir = \"/content/drive/MyDrive/Machine Learning\"\n",
        "norust = \"/content/drive/MyDrive/Machine Learning/norust\"\n",
        "rust = \"/content/drive/MyDrive/Machine Learning/rusts\""
      ],
      "metadata": {
        "id": "irJZQdLILrHD"
      },
      "execution_count": null,
      "outputs": []
    },
    {
      "cell_type": "markdown",
      "source": [
        "Renaming datasets / files"
      ],
      "metadata": {
        "id": "qaUyJ1hS5fwh"
      }
    },
    {
      "cell_type": "code",
      "source": [
        "# Rename file\n",
        "norust_chdir = os.chdir(norust)\n",
        "len(os.listdir(norust_chdir))\n",
        "\n",
        "i = 0\n",
        "for file in os.listdir(norust_chdir):\n",
        "  new_file_name = \"norust.{}.jpg\".format(i)\n",
        "  os.rename(file, new_file_name)\n",
        "  i = i + 1"
      ],
      "metadata": {
        "id": "9Vdp2uDNLviq"
      },
      "execution_count": null,
      "outputs": []
    },
    {
      "cell_type": "code",
      "source": [
        "rust_chdir = os.chdir(rust)\n",
        "len(os.listdir(rust_chdir))\n",
        "\n",
        "n = 0\n",
        "for file in os.listdir(rust_chdir):\n",
        "  new_file_name = \"rusty.{}.jpg\".format(n)\n",
        "  os.rename(file, new_file_name)\n",
        "  n = n + 1"
      ],
      "metadata": {
        "id": "v3beZuItUg8s"
      },
      "execution_count": null,
      "outputs": []
    },
    {
      "cell_type": "code",
      "source": [
        "!pwd"
      ],
      "metadata": {
        "colab": {
          "base_uri": "https://localhost:8080/"
        },
        "id": "fR4cNgT2Wlo2",
        "outputId": "ddfed6b5-7ae4-4585-ffa3-9db614bfc772"
      },
      "execution_count": null,
      "outputs": [
        {
          "output_type": "stream",
          "name": "stdout",
          "text": [
            "/content\n"
          ]
        }
      ]
    },
    {
      "cell_type": "code",
      "source": [
        "# Re-check order\n",
        "for files in os.listdir(norust_chdir):\n",
        "    print(files)\n",
        "\n",
        "for file in os.listdir(rust_chdir):\n",
        "    print(file)"
      ],
      "metadata": {
        "id": "NPRyg2k2TNVk"
      },
      "execution_count": null,
      "outputs": []
    },
    {
      "cell_type": "markdown",
      "source": [
        "Creating directory for training set and testing set"
      ],
      "metadata": {
        "id": "98vYgIZr52lP"
      }
    },
    {
      "cell_type": "code",
      "source": [
        "# Create Directory\n",
        "os.makedirs(os.path.join(source_dir, 'training'))\n",
        "os.makedirs(os.path.join(f'{source_dir}/training', 'rust'))\n",
        "os.makedirs(os.path.join(f'{source_dir}/training', 'norust'))\n",
        "os.makedirs(os.path.join(source_dir, 'testing'))\n",
        "os.makedirs(os.path.join(f'{source_dir}/testing', 'rust'))\n",
        "os.makedirs(os.path.join(f'{source_dir}/testing', 'norust'))"
      ],
      "metadata": {
        "id": "lLYrjj-KTmu8"
      },
      "execution_count": null,
      "outputs": []
    },
    {
      "cell_type": "markdown",
      "source": [
        "Defining training and testing directory path"
      ],
      "metadata": {
        "id": "0b33d5WN57lv"
      }
    },
    {
      "cell_type": "code",
      "source": [
        "TRAINING_DIR = \"/content/drive/MyDrive/Machine Learning/training\"\n",
        "VALIDATION_DIR = \"/content/drive/MyDrive/Machine Learning/testing\"\n",
        "\n",
        "TRAINING_N_DIR = \"/content/drive/MyDrive/Machine Learning/training/norust\"\n",
        "TRAINING_R_DIR = \"/content/drive/MyDrive/Machine Learning/training/rust\"\n",
        "TESTING_N_DIR = \"/content/drive/MyDrive/Machine Learning/testing/norust\"\n",
        "TESTING_R_DIR = \"/content/drive/MyDrive/Machine Learning/testing/rust\""
      ],
      "metadata": {
        "id": "kcoHGfemTvyT"
      },
      "execution_count": null,
      "outputs": []
    },
    {
      "cell_type": "markdown",
      "source": [
        "# 2. Splitting datasets into Training and Validation"
      ],
      "metadata": {
        "id": "9y6Q78cQ6A6g"
      }
    },
    {
      "cell_type": "code",
      "source": [
        "def split_data(SOURCE_DIR, TRAINING_DIR, VALIDATION_DIR, SPLIT_SIZE):\n",
        "    files = os.listdir(SOURCE_DIR)\n",
        "    random.shuffle(files)\n",
        "\n",
        "    split = int(len(files) * SPLIT_SIZE)\n",
        "\n",
        "    for i, filename in enumerate(files):\n",
        "        if os.path.getsize(os.path.join(SOURCE_DIR, filename)) == 0:\n",
        "            print(f'{filename} is zero length, so ignoring.')\n",
        "            continue\n",
        "\n",
        "        if i < split:\n",
        "            destination = os.path.join(TRAINING_DIR, filename)\n",
        "        else:\n",
        "            destination = os.path.join(VALIDATION_DIR, filename)\n",
        "\n",
        "        source = os.path.join(SOURCE_DIR, filename)\n",
        "        copyfile(source, destination)"
      ],
      "metadata": {
        "id": "mIkiGKmkTzAl"
      },
      "execution_count": null,
      "outputs": []
    },
    {
      "cell_type": "code",
      "source": [
        "split_size= 0.8\n",
        "split_data(norust, TRAINING_N_DIR, TESTING_N_DIR, split_size)\n",
        "split_data(rust, TRAINING_R_DIR, TESTING_R_DIR, split_size)\n",
        "\n",
        "print(f\"\\n\\nOriginal norust's directory has {len(os.listdir(norust))} images\")\n",
        "print(f\"Original rust's directory has {len(os.listdir(rust))} images\\n\")\n",
        "print(f\"There are {len(os.listdir(TRAINING_N_DIR))} images of no-rust for training\")\n",
        "print(f\"There are {len(os.listdir(TRAINING_R_DIR))} images of rust for training\")\n",
        "print(f\"There are {len(os.listdir(TESTING_N_DIR))} images of no-rust for validation\")\n",
        "print(f\"There are {len(os.listdir(TESTING_R_DIR))} images of rust for validation\")"
      ],
      "metadata": {
        "colab": {
          "base_uri": "https://localhost:8080/"
        },
        "id": "oQrdhktNT2jg",
        "outputId": "9ee29731-abb3-48cb-c73a-8ad8026c6501"
      },
      "execution_count": null,
      "outputs": [
        {
          "output_type": "stream",
          "name": "stdout",
          "text": [
            "\n",
            "\n",
            "Original norust's directory has 163 images\n",
            "Original rust's directory has 163 images\n",
            "\n",
            "There are 130 images of no-rust for training\n",
            "There are 130 images of rust for training\n",
            "There are 33 images of no-rust for validation\n",
            "There are 33 images of rust for validation\n"
          ]
        }
      ]
    },
    {
      "cell_type": "code",
      "source": [
        "len(os.listdir(TRAINING_DIR))\n",
        "len(os.listdir(VALIDATION_DIR))"
      ],
      "metadata": {
        "colab": {
          "base_uri": "https://localhost:8080/"
        },
        "id": "Q9TgzQHCdjeJ",
        "outputId": "cf951157-f02d-4a31-d31a-03db7b9d3b29"
      },
      "execution_count": null,
      "outputs": [
        {
          "output_type": "execute_result",
          "data": {
            "text/plain": [
              "2"
            ]
          },
          "metadata": {},
          "execution_count": 65
        }
      ]
    },
    {
      "cell_type": "markdown",
      "source": [
        "this code is for deleting datasets that has been distributed into training and testing folder"
      ],
      "metadata": {
        "id": "QTo8b5qM6NPf"
      }
    },
    {
      "cell_type": "code",
      "source": [
        "# USE THIS CODE ONLY FOR CLEAN UP\n",
        "if len(os.listdir(TRAINING_N_DIR)) > 0:\n",
        "  for file in os.scandir(TRAINING_N_DIR):\n",
        "    os.remove(file.path)\n",
        "if len(os.listdir(TRAINING_R_DIR)) > 0:\n",
        "  for file in os.scandir(TRAINING_R_DIR):\n",
        "    os.remove(file.path)\n",
        "if len(os.listdir(TESTING_N_DIR)) > 0:\n",
        "  for file in os.scandir(TESTING_N_DIR):\n",
        "    os.remove(file.path)\n",
        "if len(os.listdir(TESTING_R_DIR)) > 0:\n",
        "  for file in os.scandir(TESTING_R_DIR):\n",
        "    os.remove(file.path)\n",
        "\n",
        "print(f\"There are {len(os.listdir(TRAINING_N_DIR))} images of no-rust for training\")\n",
        "print(f\"There are {len(os.listdir(TRAINING_R_DIR))} images of rust for training\")\n",
        "print(f\"There are {len(os.listdir(TESTING_N_DIR))} images of no-rust for validation\")\n",
        "print(f\"There are {len(os.listdir(TESTING_R_DIR))} images of rust for validation\")"
      ],
      "metadata": {
        "colab": {
          "base_uri": "https://localhost:8080/"
        },
        "id": "iAhF8hMkdcQR",
        "outputId": "544eb1dd-1c63-48eb-b59b-d5f47e60543b"
      },
      "execution_count": null,
      "outputs": [
        {
          "output_type": "stream",
          "name": "stdout",
          "text": [
            "There are 0 images of no-rust for training\n",
            "There are 0 images of rust for training\n",
            "There are 0 images of no-rust for validation\n",
            "There are 0 images of rust for validation\n"
          ]
        }
      ]
    },
    {
      "cell_type": "markdown",
      "source": [
        "Make Labels"
      ],
      "metadata": {
        "id": "gunaFduSzVea"
      }
    },
    {
      "cell_type": "code",
      "source": [
        "class_labels = ['No-Rust', 'Rusty']\n",
        "os.chdir(\"/content/drive/MyDrive/Machine Learning/model\")\n",
        "with open('labels.txt', 'w') as f:\n",
        "    f.write('\\n'.join(class_labels))"
      ],
      "metadata": {
        "id": "ZFTbkvUBzXh4"
      },
      "execution_count": null,
      "outputs": []
    },
    {
      "cell_type": "markdown",
      "source": [
        "# 3. Augmenting Datasets"
      ],
      "metadata": {
        "id": "vBdcmCSs6f__"
      }
    },
    {
      "cell_type": "code",
      "source": [
        "def train_val_gen(TRAINING_DIR,VALIDATION_DIR):\n",
        "  train_datagen = ImageDataGenerator(\n",
        "      rescale= 1.0/255.0,\n",
        "      rotation_range = 30,\n",
        "      zoom_range=0.2,\n",
        "      shear_range=0.2,\n",
        "      width_shift_range=0.2,\n",
        "      height_shift_range=0.2,\n",
        "      horizontal_flip=True,\n",
        "  )\n",
        "  validation_datagen = ImageDataGenerator(\n",
        "      rescale=1.0/255.0\n",
        "  )\n",
        "\n",
        "  train_gen = train_datagen.flow_from_directory(\n",
        "      directory=TRAINING_DIR,\n",
        "      batch_size=16,\n",
        "      class_mode='categorical',\n",
        "      target_size=(150,150)\n",
        "  )\n",
        "  validation_gen = validation_datagen.flow_from_directory(\n",
        "      directory=VALIDATION_DIR,\n",
        "      batch_size=4,\n",
        "      class_mode='categorical',\n",
        "      target_size=(150,150)\n",
        "  )\n",
        "\n",
        "  return train_gen,validation_gen"
      ],
      "metadata": {
        "id": "RXdnKiDfdg4N"
      },
      "execution_count": null,
      "outputs": []
    },
    {
      "cell_type": "code",
      "source": [
        "train_gen, validation_gen = train_val_gen(TRAINING_DIR,VALIDATION_DIR)\n",
        "\n",
        "val_labels = validation_gen.classes\n",
        "print(val_labels)"
      ],
      "metadata": {
        "colab": {
          "base_uri": "https://localhost:8080/"
        },
        "id": "9XZ5GNfspCFQ",
        "outputId": "07e111ba-ad9e-4a51-9187-09d02eeae41f"
      },
      "execution_count": null,
      "outputs": [
        {
          "output_type": "stream",
          "name": "stdout",
          "text": [
            "Found 260 images belonging to 2 classes.\n",
            "Found 66 images belonging to 2 classes.\n",
            "[0 0 0 0 0 0 0 0 0 0 0 0 0 0 0 0 0 0 0 0 0 0 0 0 0 0 0 0 0 0 0 0 0 1 1 1 1\n",
            " 1 1 1 1 1 1 1 1 1 1 1 1 1 1 1 1 1 1 1 1 1 1 1 1 1 1 1 1 1]\n"
          ]
        }
      ]
    },
    {
      "cell_type": "markdown",
      "source": [
        "# 4. Creating Model Architecture"
      ],
      "metadata": {
        "id": "FmMZreNI6k4H"
      }
    },
    {
      "cell_type": "code",
      "source": [
        "base_model = MobileNetV2(weights='imagenet', include_top=False, input_shape=(150,150,3))\n",
        "base_model.trainable = False"
      ],
      "metadata": {
        "colab": {
          "base_uri": "https://localhost:8080/"
        },
        "id": "BWg7YgVwpJae",
        "outputId": "90d3f548-f6ef-4aa9-acee-dcb63ae316d2"
      },
      "execution_count": null,
      "outputs": [
        {
          "output_type": "stream",
          "name": "stderr",
          "text": [
            "WARNING:tensorflow:`input_shape` is undefined or non-square, or `rows` is not in [96, 128, 160, 192, 224]. Weights for input shape (224, 224) will be loaded as the default.\n"
          ]
        },
        {
          "output_type": "stream",
          "name": "stdout",
          "text": [
            "Downloading data from https://storage.googleapis.com/tensorflow/keras-applications/mobilenet_v2/mobilenet_v2_weights_tf_dim_ordering_tf_kernels_1.0_224_no_top.h5\n",
            "9406464/9406464 [==============================] - 0s 0us/step\n"
          ]
        }
      ]
    },
    {
      "cell_type": "code",
      "source": [
        "model = tf.keras.Sequential([\n",
        "    base_model,\n",
        "    tf.keras.layers.GlobalAveragePooling2D(),\n",
        "    tf.keras.layers.Flatten(),\n",
        "    tf.keras.layers.Dense(512, activation='relu'),\n",
        "    tf.keras.layers.Dropout(0.3),\n",
        "    tf.keras.layers.Dense(256, activation='relu'),\n",
        "    tf.keras.layers.Dropout(0.3),\n",
        "\n",
        "    tf.keras.layers.Dense(2, activation='softmax')\n",
        "])\n",
        "model.summary()"
      ],
      "metadata": {
        "colab": {
          "base_uri": "https://localhost:8080/"
        },
        "id": "Y34ZqTq1pPwO",
        "outputId": "7f9de7b7-03a1-43dc-953e-0e4b45b04257"
      },
      "execution_count": null,
      "outputs": [
        {
          "output_type": "stream",
          "name": "stdout",
          "text": [
            "Model: \"sequential_5\"\n",
            "_________________________________________________________________\n",
            " Layer (type)                Output Shape              Param #   \n",
            "=================================================================\n",
            " mobilenetv2_1.00_224 (Func  (None, 5, 5, 1280)        2257984   \n",
            " tional)                                                         \n",
            "                                                                 \n",
            " global_average_pooling2d_5  (None, 1280)              0         \n",
            "  (GlobalAveragePooling2D)                                       \n",
            "                                                                 \n",
            " flatten_5 (Flatten)         (None, 1280)              0         \n",
            "                                                                 \n",
            " dense_15 (Dense)            (None, 512)               655872    \n",
            "                                                                 \n",
            " dropout_10 (Dropout)        (None, 512)               0         \n",
            "                                                                 \n",
            " dense_16 (Dense)            (None, 256)               131328    \n",
            "                                                                 \n",
            " dropout_11 (Dropout)        (None, 256)               0         \n",
            "                                                                 \n",
            " dense_17 (Dense)            (None, 2)                 514       \n",
            "                                                                 \n",
            "=================================================================\n",
            "Total params: 3045698 (11.62 MB)\n",
            "Trainable params: 787714 (3.00 MB)\n",
            "Non-trainable params: 2257984 (8.61 MB)\n",
            "_________________________________________________________________\n"
          ]
        }
      ]
    },
    {
      "cell_type": "code",
      "source": [
        "class modelCallback(tf.keras.callbacks.Callback):\n",
        "  def on_epoch_end(self, epoch, logs={}):\n",
        "    if logs.get('accuracy') > 0.90 and logs.get('val_accuracy') > 0.90:\n",
        "      self.model.stop_training = True"
      ],
      "metadata": {
        "id": "OCnKPYyTpbzW"
      },
      "execution_count": null,
      "outputs": []
    },
    {
      "cell_type": "code",
      "source": [
        "# Compile Model\n",
        "callback = modelCallback()\n",
        "\n",
        "optimizer = tf.keras.optimizers.Adam(learning_rate=1e-4)\n",
        "loss = tf.keras.losses.categorical_crossentropy\n",
        "model.compile(optimizer=optimizer, loss=loss, metrics=['accuracy'])\n",
        "history = model.fit(train_gen, epochs=15, validation_data=validation_gen, callbacks=callback)"
      ],
      "metadata": {
        "colab": {
          "base_uri": "https://localhost:8080/"
        },
        "id": "-GwtCUJlpeMn",
        "outputId": "93532018-2c16-4cc7-bf90-86ec150038f4"
      },
      "execution_count": null,
      "outputs": [
        {
          "output_type": "stream",
          "name": "stdout",
          "text": [
            "Epoch 1/15\n",
            "14/17 [=======================>......] - ETA: 1s - loss: 0.7764 - accuracy: 0.5943"
          ]
        },
        {
          "output_type": "stream",
          "name": "stderr",
          "text": [
            "/usr/local/lib/python3.10/dist-packages/PIL/Image.py:996: UserWarning: Palette images with Transparency expressed in bytes should be converted to RGBA images\n",
            "  warnings.warn(\n"
          ]
        },
        {
          "output_type": "stream",
          "name": "stdout",
          "text": [
            "17/17 [==============================] - 17s 787ms/step - loss: 0.7351 - accuracy: 0.6115 - val_loss: 0.3790 - val_accuracy: 0.8333\n",
            "Epoch 2/15\n",
            "17/17 [==============================] - 10s 553ms/step - loss: 0.4123 - accuracy: 0.8192 - val_loss: 0.1982 - val_accuracy: 0.9848\n",
            "Epoch 3/15\n",
            "17/17 [==============================] - 14s 805ms/step - loss: 0.2892 - accuracy: 0.8885 - val_loss: 0.1254 - val_accuracy: 1.0000\n",
            "Epoch 4/15\n",
            "17/17 [==============================] - 13s 768ms/step - loss: 0.1971 - accuracy: 0.9308 - val_loss: 0.0980 - val_accuracy: 0.9848\n"
          ]
        }
      ]
    },
    {
      "cell_type": "markdown",
      "source": [
        "Post-Training Validation"
      ],
      "metadata": {
        "id": "zxqvs_vY6t3y"
      }
    },
    {
      "cell_type": "code",
      "source": [
        "acc = history.history['accuracy']\n",
        "val_acc=history.history['val_accuracy']\n",
        "loss=history.history['loss']\n",
        "val_loss=history.history['val_loss']\n",
        "epoch=range(len(acc))\n",
        "\n",
        "plt.plot(epoch, acc, 'r', \"Training Accuracy\")\n",
        "plt.plot(epoch, val_acc, 'b', \"Validation Accuracy\")\n",
        "plt.title('Training and Validation Accuracy')\n",
        "plt.show()\n",
        "print(\"\")\n",
        "\n",
        "plt.plot(epoch, loss, 'r', \"Training Losses\")\n",
        "plt.plot(epoch, val_loss, 'b', \"Validation Losses\")\n",
        "plt.show()"
      ],
      "metadata": {
        "colab": {
          "base_uri": "https://localhost:8080/",
          "height": 882
        },
        "id": "SFBgbOAbqo8B",
        "outputId": "568a7dbf-df79-4373-8cd7-0e09826ca14b"
      },
      "execution_count": null,
      "outputs": [
        {
          "output_type": "display_data",
          "data": {
            "text/plain": [
              "<Figure size 640x480 with 1 Axes>"
            ],
            "image/png": "[encoded data removed]"
          },
          "metadata": {}
        },
        {
          "output_type": "stream",
          "name": "stdout",
          "text": [
            "\n"
          ]
        },
        {
          "output_type": "display_data",
          "data": {
            "text/plain": [
              "<Figure size 640x480 with 1 Axes>"
            ],
            "image/png": "[encoded data removed]"
          },
          "metadata": {}
        }
      ]
    },
    {
      "cell_type": "code",
      "source": [
        "validation_results = model.evaluate(validation_gen)\n",
        "\n",
        "print(\"Validation Loss: {:.1f}%\".format(validation_results[0] * 100))\n",
        "print(\"Validation Accuracy: {:.1f}%\".format(validation_results[1] * 100))\n",
        "\n",
        "predictions = model.predict(validation_gen)\n",
        "# Check the shape of the predictions\n",
        "print(\"Shape of predictions:\", predictions.shape)"
      ],
      "metadata": {
        "colab": {
          "base_uri": "https://localhost:8080/"
        },
        "id": "hPKGIhXE1SyQ",
        "outputId": "25f1f02f-22b6-4ac8-bdeb-38c7f77390ce"
      },
      "execution_count": null,
      "outputs": [
        {
          "output_type": "stream",
          "name": "stdout",
          "text": [
            "17/17 [==============================] - 3s 156ms/step - loss: 0.0980 - accuracy: 0.9848\n",
            "Validation Loss: 9.8%\n",
            "Validation Accuracy: 98.5%\n",
            "17/17 [==============================] - 3s 96ms/step\n",
            "Shape of predictions: (66, 2)\n"
          ]
        }
      ]
    },
    {
      "cell_type": "markdown",
      "source": [
        "# 5. Saving Model"
      ],
      "metadata": {
        "id": "_ZgJ-17U63hx"
      }
    },
    {
      "cell_type": "markdown",
      "source": [
        "saving model into .pb and .h5"
      ],
      "metadata": {
        "id": "_BHxv3xG7CKg"
      }
    },
    {
      "cell_type": "code",
      "source": [
        "# Save Model\n",
        "os.chdir(\"/content/drive/MyDrive/Machine Learning/model\")\n",
        "model_dir = '/content/drive/MyDrive/Machine Learning/model/'\n",
        "tf.saved_model.save(model, model_dir)\n",
        "model.save(\"model.h5\")"
      ],
      "metadata": {
        "colab": {
          "base_uri": "https://localhost:8080/"
        },
        "id": "8-jNd7gK131B",
        "outputId": "c4953437-5ece-4805-c1cd-1d58a1a09ff5"
      },
      "execution_count": null,
      "outputs": [
        {
          "output_type": "stream",
          "name": "stderr",
          "text": [
            "WARNING:absl:`mobilenetv2_1.00_224_input` is not a valid tf.function parameter name. Sanitizing to `mobilenetv2_1_00_224_input`.\n",
            "WARNING:absl:`mobilenetv2_1.00_224_input` is not a valid tf.function parameter name. Sanitizing to `mobilenetv2_1_00_224_input`.\n",
            "WARNING:absl:`mobilenetv2_1.00_224_input` is not a valid tf.function parameter name. Sanitizing to `mobilenetv2_1_00_224_input`.\n",
            "/usr/local/lib/python3.10/dist-packages/keras/src/engine/training.py:3079: UserWarning: You are saving your model as an HDF5 file via `model.save()`. This file format is considered legacy. We recommend using instead the native Keras format, e.g. `model.save('my_model.keras')`.\n",
            "  saving_api.save_model(\n"
          ]
        }
      ]
    },
    {
      "cell_type": "markdown",
      "source": [
        "converting .pb into .tflite"
      ],
      "metadata": {
        "id": "w7v7HZfp7FuI"
      }
    },
    {
      "cell_type": "code",
      "source": [
        "import pathlib\n",
        "\n",
        "converter = tf.lite.TFLiteConverter.from_saved_model(saved_model_dir=model_dir)\n",
        "tflite_model = converter.convert()\n",
        "tflite_model_file = pathlib.Path('./model.tflite')\n",
        "tflite_model_file.write_bytes(tflite_model)\n",
        "\n",
        "converter.optimizations = [tf.lite.Optimize.DEFAULT]\n",
        "q_tflite_model = converter.convert()\n",
        "q_tflite_model_file = pathlib.Path('./quantized_model.tflite')\n",
        "q_tflite_model_file.write_bytes(q_tflite_model)"
      ],
      "metadata": {
        "colab": {
          "base_uri": "https://localhost:8080/"
        },
        "id": "F-ybQL3y4vFg",
        "outputId": "8caa288e-55dc-48b1-d7bc-78483f408d04"
      },
      "execution_count": null,
      "outputs": [
        {
          "output_type": "execute_result",
          "data": {
            "text/plain": [
              "3301960"
            ]
          },
          "metadata": {},
          "execution_count": 34
        }
      ]
    }
  ]
}